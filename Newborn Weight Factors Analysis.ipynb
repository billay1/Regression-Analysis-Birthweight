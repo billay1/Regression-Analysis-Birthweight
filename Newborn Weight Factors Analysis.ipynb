{
 "cells": [
  {
   "cell_type": "markdown",
   "id": "4806c232",
   "metadata": {},
   "source": [
    "<hr style=\"height:.9px;border:none;color:#333;background-color:#333;\" />\n",
    "<hr style=\"height:.9px;border:none;color:#333;background-color:#333;\" />\n",
    "<h1>Machine Learning </h1> <br> \n",
    "<h3>Newborn Weight Analysis</h3><br>\n",
    "Author: Yeyi Billa\n",
    "\n",
    "<hr style=\"height:.9px;border:none;color:#333;background-color:#333;\" />"
   ]
  },
  {
   "cell_type": "markdown",
   "id": "aec03241",
   "metadata": {},
   "source": [
    "<h2> Analysis and Recommendation Summary </h2><br>\n",
    "<strong>After a meticulous analysis of the data, the following conclusions were derived:</strong><br>\n",
    "- Daily Consumption of bad substances like cigarettes and alcohol by the mother is more likely to decrease the weight of the baby at birth by <strong>8g</strong>. <br>\n",
    "- Age is a significant factor affecting the weight of the baby. The older the parents, especially the mother, the less fertile she gets and the more the newborn weight is negatively affected. We have a proportion of <strong>0.23g</strong> of weight lost per year of age after 35 years old.<br>\n",
    "- Nonetheless, some factors positively impact the weight of the newborn like the level of education of parents with an influence of <strong>+1.35g</strong> as the years of studies increases. It is presume that parents who studied more have deeper knowledge of the human body and how to behave to get the baby born healthy, going from the diet to medical care. <br> As far as medical care is concerned, the last factor in the prediction, prenatal care which is a combination of the prenatal visits and the month where the visits started, has a positive impact on the weight of the newborn with <strong>+2.8g</strong> in more for high frequencies of visits and the sooner they start.\n"
   ]
  },
  {
   "cell_type": "markdown",
   "id": "3b56a959",
   "metadata": {},
   "source": [
    "<hr style=\"height:.9px;border:none;color:#333;background-color:#333;\" />\n",
    "<h2>Exploring and Understanding the data</h2> "
   ]
  },
  {
   "cell_type": "code",
   "execution_count": 1,
   "id": "780fbc9d",
   "metadata": {},
   "outputs": [
    {
     "name": "stdout",
     "output_type": "stream",
     "text": [
      "   mage  meduc  monpre  npvis  fage  feduc  omaps  fmaps  cigs  drink  male  \\\n",
      "0    69    NaN       5    2.0    62    NaN      4      7    23      9     1   \n",
      "1    68   12.0       3   10.0    61   11.0      4      6    25     11     1   \n",
      "2    71   12.0       3    6.0    46   12.0      2      7    21     12     1   \n",
      "3    59   16.0       1    8.0    48   16.0      7      8    21     10     0   \n",
      "4    48   12.0       4    6.0    39   12.0      2      9    17     13     0   \n",
      "\n",
      "   mwhte  mblck  moth  fwhte  fblck  foth  bwght  \n",
      "0      0      1     0      0      1     0    697  \n",
      "1      1      0     0      1      0     0   1290  \n",
      "2      0      1     0      0      1     0   1490  \n",
      "3      0      0     1      0      0     1   1720  \n",
      "4      1      0     0      1      0     0   1956  \n"
     ]
    }
   ],
   "source": [
    "#Importing packages pandas, matplotlib.pyplot, seaborn, numpy, statsmodels\n",
    "#sklearn.linear_model, train_test_split, LinearRegression, KNeighborsRegressor and StandardScaler\n",
    "import pandas as pd\n",
    "import matplotlib.pyplot as plt\n",
    "import seaborn as sns\n",
    "import numpy as np \n",
    "import statsmodels.formula.api as smf \n",
    "import sklearn.linear_model\n",
    "from sklearn.model_selection import train_test_split \n",
    "from sklearn.linear_model import LinearRegression\n",
    "from sklearn.neighbors import KNeighborsRegressor \n",
    "from sklearn.preprocessing import StandardScaler\n",
    "\n",
    "#Importing excel file as a Dataframe \n",
    "file = \"./birthweight_low.xlsx\"\n",
    "\n",
    "birthweight = pd.read_excel(io = file,\n",
    "                           sheet_name = 0,\n",
    "                           header = 0,\n",
    "                           na_values = ['', '#N/A', '#N/A N/A', '#NA', '-1.#IND',\n",
    "                                        '-1.#QNAN', '-NaN', '-nan',\n",
    "        '1.#IND', '1.#QNAN', '<NA>', 'N/A', 'NA', 'NULL', 'NaN', 'n/a',\n",
    "        'nan', 'null', ' ?'])\n",
    "\n",
    "print(birthweight.head(n=5)) #displaying the dataframe\n"
   ]
  },
  {
   "cell_type": "markdown",
   "id": "f4ae6199",
   "metadata": {},
   "source": [
    "<h3>Understanding of the features</h3><br>\n",
    "    Here is an explanation behind each features name:<br>\n",
    "- Age of the parents: mage and fage<br> \n",
    "- Month when the prenatal visits begin: monpre<br> \n",
    "- number of prenatal visits: npvis<br>\n",
    "- Level of Education of the parents: meduc and feduc<br>\n",
    "- Mother's cigarettes intake: cigs<br>\n",
    "- Mother's alcohol intake: drink<br>\n",
    "- Parents' race: mwhte, fwhte, mbclk, fbclk, moth, foth<br>\n",
    "- Gender of the Child: male<br>\n"
   ]
  },
  {
   "cell_type": "code",
   "execution_count": 2,
   "id": "c4ff4c93",
   "metadata": {},
   "outputs": [
    {
     "name": "stdout",
     "output_type": "stream",
     "text": [
      "\n",
      "Size of Original Dataset\n",
      "------------------------\n",
      "Observations: 196\n",
      "Features:     18\n",
      "\n"
     ]
    }
   ],
   "source": [
    "#Displaying the dimensions of the dataframe\n",
    "print(f\"\"\"\n",
    "Size of Original Dataset\n",
    "------------------------\n",
    "Observations: {birthweight.shape[0]}\n",
    "Features:     {birthweight.shape[1]}\n",
    "\"\"\")"
   ]
  },
  {
   "cell_type": "markdown",
   "id": "45f56c96",
   "metadata": {},
   "source": [
    "\n",
    "<h4>Checking Missing values</h4> "
   ]
  },
  {
   "cell_type": "code",
   "execution_count": 3,
   "id": "01d070b1",
   "metadata": {},
   "outputs": [
    {
     "data": {
      "text/plain": [
       "True"
      ]
     },
     "execution_count": 3,
     "metadata": {},
     "output_type": "execute_result"
    }
   ],
   "source": [
    "#Checking is there are missing values in dataframe\n",
    "birthweight.isnull().any().any()"
   ]
  },
  {
   "cell_type": "markdown",
   "id": "f2ac1c91",
   "metadata": {},
   "source": [
    "<hr style=\"height:.9px;border:none;color:#333;background-color:#333;\" />\n",
    "<h3>Dealing with Missing values</h3> "
   ]
  },
  {
   "cell_type": "code",
   "execution_count": 4,
   "id": "f30cbd7b",
   "metadata": {},
   "outputs": [
    {
     "data": {
      "text/plain": [
       "mage      0\n",
       "meduc     3\n",
       "monpre    0\n",
       "npvis     3\n",
       "fage      0\n",
       "feduc     7\n",
       "omaps     0\n",
       "fmaps     0\n",
       "cigs      0\n",
       "drink     0\n",
       "male      0\n",
       "mwhte     0\n",
       "mblck     0\n",
       "moth      0\n",
       "fwhte     0\n",
       "fblck     0\n",
       "foth      0\n",
       "bwght     0\n",
       "dtype: int64"
      ]
     },
     "execution_count": 4,
     "metadata": {},
     "output_type": "execute_result"
    }
   ],
   "source": [
    "#Checking how many missing values per feature\n",
    "birthweight.isnull().sum(axis = 0)"
   ]
  },
  {
   "cell_type": "markdown",
   "id": "84e6c74c",
   "metadata": {},
   "source": [
    "Based on the result below, three (03) columns have missing values:<br>\n",
    "the mother education (meduc), the father education (feduc) and the number of prenatal visits (npvis). <br>\n",
    "We will therefore try to input some values so that we don't get errors while running our predictions."
   ]
  },
  {
   "cell_type": "code",
   "execution_count": 5,
   "id": "6a3f2695",
   "metadata": {},
   "outputs": [
    {
     "data": {
      "text/plain": [
       "mage      0.00\n",
       "meduc     0.02\n",
       "monpre    0.00\n",
       "npvis     0.02\n",
       "fage      0.00\n",
       "feduc     0.04\n",
       "omaps     0.00\n",
       "fmaps     0.00\n",
       "cigs      0.00\n",
       "drink     0.00\n",
       "male      0.00\n",
       "mwhte     0.00\n",
       "mblck     0.00\n",
       "moth      0.00\n",
       "fwhte     0.00\n",
       "fblck     0.00\n",
       "foth      0.00\n",
       "bwght     0.00\n",
       "dtype: float64"
      ]
     },
     "execution_count": 5,
     "metadata": {},
     "output_type": "execute_result"
    }
   ],
   "source": [
    "#Checking frequency of missing values per feature\n",
    "birthweight.isnull().mean().round(decimals = 2)"
   ]
  },
  {
   "cell_type": "code",
   "execution_count": 6,
   "id": "57ba05ae",
   "metadata": {},
   "outputs": [
    {
     "name": "stdout",
     "output_type": "stream",
     "text": [
      "<class 'pandas.core.frame.DataFrame'>\n",
      "RangeIndex: 196 entries, 0 to 195\n",
      "Data columns (total 18 columns):\n",
      " #   Column  Non-Null Count  Dtype  \n",
      "---  ------  --------------  -----  \n",
      " 0   mage    196 non-null    int64  \n",
      " 1   meduc   193 non-null    float64\n",
      " 2   monpre  196 non-null    int64  \n",
      " 3   npvis   193 non-null    float64\n",
      " 4   fage    196 non-null    int64  \n",
      " 5   feduc   189 non-null    float64\n",
      " 6   omaps   196 non-null    int64  \n",
      " 7   fmaps   196 non-null    int64  \n",
      " 8   cigs    196 non-null    int64  \n",
      " 9   drink   196 non-null    int64  \n",
      " 10  male    196 non-null    int64  \n",
      " 11  mwhte   196 non-null    int64  \n",
      " 12  mblck   196 non-null    int64  \n",
      " 13  moth    196 non-null    int64  \n",
      " 14  fwhte   196 non-null    int64  \n",
      " 15  fblck   196 non-null    int64  \n",
      " 16  foth    196 non-null    int64  \n",
      " 17  bwght   196 non-null    int64  \n",
      "dtypes: float64(3), int64(15)\n",
      "memory usage: 27.7 KB\n"
     ]
    }
   ],
   "source": [
    "#Checking the types of the features\n",
    "birthweight.info()"
   ]
  },
  {
   "cell_type": "code",
   "execution_count": 7,
   "id": "b7b9aa97",
   "metadata": {},
   "outputs": [],
   "source": [
    "#Flagging missing values: Creation of new columns with for loop\n",
    "for col in birthweight:\n",
    "    if birthweight[col].isnull().astype(int).sum() > 0:\n",
    "        birthweight['m_'+col] = birthweight[col].isnull().astype(int)"
   ]
  },
  {
   "cell_type": "code",
   "execution_count": 8,
   "id": "83b2e109",
   "metadata": {},
   "outputs": [],
   "source": [
    "#Sum of the missing values into a single new column\n",
    "birthweight['mv_sum'] = birthweight.iloc[ : , -3: ].sum(axis = 1)"
   ]
  },
  {
   "cell_type": "code",
   "execution_count": 9,
   "id": "c0d659cc",
   "metadata": {},
   "outputs": [
    {
     "name": "stdout",
     "output_type": "stream",
     "text": [
      "\n",
      "\n",
      "Number of Missing Values per Observation \n",
      "----------------------------------------------\n",
      "0    94.90\n",
      "1     3.57\n",
      "2     1.53\n",
      "Name: mv_sum, dtype: float64\n",
      "\n"
     ]
    }
   ],
   "source": [
    "#Checking Number of missing values per feature's unique values\n",
    "print(f\"\"\"\n",
    "\n",
    "Number of Missing Values per Observation \n",
    "----------------------------------------------\n",
    "{(birthweight['mv_sum'].value_counts(normalize = True,\n",
    "                                  sort      = True,\n",
    "                                  ascending = True)*100).sort_index().round(2)}\n",
    "\"\"\")"
   ]
  },
  {
   "cell_type": "code",
   "execution_count": 10,
   "id": "62987cb0",
   "metadata": {},
   "outputs": [],
   "source": [
    "#Imputing new values to missing ones using the mean or the median \n",
    "for col in birthweight:\n",
    "    if birthweight[col].isnull().sum(axis = 0) > 0:\n",
    "        mean = birthweight[col].mean()\n",
    "        median = birthweight[col].median()\n",
    "        if median > mean: #data skewed if mean is higher than median\n",
    "            birthweight[col].fillna(value = mean,\n",
    "                               inplace = True)\n",
    "        elif mean > median: #data skewed if mean is higher than median\n",
    "            birthweight[col].fillna(value = median,\n",
    "                               inplace = True)\n",
    "        else:\n",
    "            continue\n",
    "    elif birthweight[col].isnull().sum(axis = 0) < 0:\n",
    "        continue\n",
    "    else:\n",
    "        continue"
   ]
  },
  {
   "cell_type": "code",
   "execution_count": 11,
   "id": "5c04a397",
   "metadata": {},
   "outputs": [
    {
     "name": "stdout",
     "output_type": "stream",
     "text": [
      "\n",
      "Missing values remaining in the dataframe?\n",
      "-----------------------------------------\n",
      "False\n",
      "\n"
     ]
    }
   ],
   "source": [
    "#Checking if there are any missing values remaining in the dataframe\n",
    "print(f\"\"\"\n",
    "Missing values remaining in the dataframe?\n",
    "-----------------------------------------\n",
    "{birthweight.isnull().any().any()}\n",
    "\"\"\")"
   ]
  },
  {
   "cell_type": "markdown",
   "id": "e476ed65",
   "metadata": {},
   "source": [
    "<hr style=\"height:.9px;border:none;color:#333;background-color:#333;\" />\n",
    "<h3>Massaging Data to Optimize Prediction</h3> "
   ]
  },
  {
   "cell_type": "code",
   "execution_count": 12,
   "id": "f5176dba",
   "metadata": {},
   "outputs": [
    {
     "name": "stdout",
     "output_type": "stream",
     "text": [
      "*The choice behind combining cigs and drink is to amplify the effect that such\n",
      "behavior has on a baby's birthweight. This behavior is called crossfating.\n",
      "\n",
      "*Crossing meduc with feduc, as well as m_meduc with m_feduc amplifies the magnitude \n",
      "of effects that educated parents has on a baby's birthweight.\n",
      "*crossing the month the prenatal care began and the number of prenatal visits can \n",
      "enhance the baby's health and birthweight.\n",
      "\n"
     ]
    }
   ],
   "source": [
    "#Crossing columns \n",
    "\n",
    "birthweight['cigs*drink'] = birthweight['cigs'] * birthweight['drink']\n",
    "birthweight['meduc*feduc'] = birthweight['meduc'] * birthweight['feduc']\n",
    "birthweight['fage*mage'] = birthweight['fage'] * birthweight['mage']\n",
    "birthweight['m_meduc*m_feduc'] = birthweight['m_meduc'] * birthweight['m_feduc']\n",
    "birthweight['monpre*npvis'] = birthweight['monpre'] * birthweight['npvis']\n",
    "\n",
    "#Explanations behind crossing features \n",
    "print(\"\"\"*The choice behind combining cigs and drink is to amplify the effect that such\n",
    "behavior has on a baby's birthweight. This behavior is called crossfating.\\n\n",
    "*Crossing meduc with feduc, as well as m_meduc with m_feduc amplifies the magnitude \n",
    "of effects that educated parents has on a baby's birthweight.\n",
    "*crossing the month the prenatal care began and the number of prenatal visits can \n",
    "enhance the baby's health and birthweight.\n",
    "\"\"\")"
   ]
  },
  {
   "cell_type": "code",
   "execution_count": 13,
   "id": "df7ab0b0",
   "metadata": {},
   "outputs": [
    {
     "name": "stdout",
     "output_type": "stream",
     "text": [
      "\n",
      "cigs*drink\n",
      "-------------\n",
      "0      207\n",
      "1      275\n",
      "2      252\n",
      "3      210\n",
      "4      221\n",
      "      ... \n",
      "191      6\n",
      "192     40\n",
      "193      0\n",
      "194     32\n",
      "195      0\n",
      "Name: cigs*drink, Length: 196, dtype: int64\n",
      "\n",
      "meduc*feduc\n",
      "-------------\n",
      "0      192.632207\n",
      "1      132.000000\n",
      "2      144.000000\n",
      "3      256.000000\n",
      "4      144.000000\n",
      "          ...    \n",
      "191    166.158730\n",
      "192    224.000000\n",
      "193    195.000000\n",
      "194    238.000000\n",
      "195    204.000000\n",
      "Name: meduc*feduc, Length: 196, dtype: float64\n",
      "\n",
      "fage*mage\n",
      "-------------\n",
      "0      4278\n",
      "1      4148\n",
      "2      3266\n",
      "3      2832\n",
      "4      1872\n",
      "       ... \n",
      "191    1140\n",
      "192    1927\n",
      "193    1254\n",
      "194    1333\n",
      "195    1482\n",
      "Name: fage*mage, Length: 196, dtype: int64\n",
      "\n",
      "m_meduc*m_feduc\n",
      "-------------\n",
      "0      1\n",
      "1      0\n",
      "2      0\n",
      "3      0\n",
      "4      0\n",
      "      ..\n",
      "191    0\n",
      "192    0\n",
      "193    0\n",
      "194    0\n",
      "195    0\n",
      "Name: m_meduc*m_feduc, Length: 196, dtype: int32\n",
      "\n",
      "monpre*npvis\n",
      "-------------\n",
      "0      10.0\n",
      "1      30.0\n",
      "2      18.0\n",
      "3       8.0\n",
      "4      24.0\n",
      "       ... \n",
      "191    60.0\n",
      "192    24.0\n",
      "193    30.0\n",
      "194    12.0\n",
      "195    20.0\n",
      "Name: monpre*npvis, Length: 196, dtype: float64\n",
      "\n"
     ]
    }
   ],
   "source": [
    "#Checking new columns in dataframe\n",
    "\n",
    "print(f\"\"\"\n",
    "cigs*drink\n",
    "-------------\n",
    "{birthweight['cigs*drink']}\\n\n",
    "meduc*feduc\n",
    "-------------\n",
    "{birthweight['meduc*feduc']}\\n\n",
    "fage*mage\n",
    "-------------\n",
    "{birthweight['fage*mage']}\\n\n",
    "m_meduc*m_feduc\n",
    "-------------\n",
    "{birthweight['m_meduc*m_feduc']}\\n\n",
    "monpre*npvis\n",
    "-------------\n",
    "{birthweight['monpre*npvis']}\n",
    "\"\"\")"
   ]
  },
  {
   "cell_type": "code",
   "execution_count": 14,
   "id": "7fa2b48f",
   "metadata": {},
   "outputs": [
    {
     "data": {
      "text/plain": [
       "str"
      ]
     },
     "execution_count": 14,
     "metadata": {},
     "output_type": "execute_result"
    }
   ],
   "source": [
    "type(\"bwght\")"
   ]
  },
  {
   "cell_type": "markdown",
   "id": "f8bfe6c9",
   "metadata": {},
   "source": [
    "<hr style=\"height:.9px;border:none;color:#333;background-color:#333;\" />\n",
    "<h3>Descriptive Analysis</h3> "
   ]
  },
  {
   "cell_type": "code",
   "execution_count": 15,
   "id": "dfeaec2b",
   "metadata": {},
   "outputs": [
    {
     "name": "stdout",
     "output_type": "stream",
     "text": [
      "Descriptive Statistics\n",
      "****************************************************************************************************\n",
      "             mage       meduc      monpre       npvis        fage       feduc  \\\n",
      "count  196.000000  196.000000  196.000000  196.000000  196.000000  196.000000   \n",
      "mean    40.153061   13.911917    2.341837   11.601036   39.290816   13.846561   \n",
      "std     10.250055    2.039988    1.355136    4.234341    8.982725    2.586504   \n",
      "min     23.000000    8.000000    1.000000    2.000000   23.000000    1.000000   \n",
      "25%     33.000000   12.000000    2.000000   10.000000   34.750000   12.000000   \n",
      "50%     39.000000   14.000000    2.000000   12.000000   38.000000   14.000000   \n",
      "75%     46.000000   16.000000    3.000000   12.000000   43.000000   16.000000   \n",
      "max     71.000000   17.000000    8.000000   35.000000   73.000000   17.000000   \n",
      "\n",
      "            omaps       fmaps        cigs       drink  ...        bwght  \\\n",
      "count  196.000000  196.000000  196.000000  196.000000  ...   196.000000   \n",
      "mean     8.193878    8.964286   10.928571    5.397959  ...  3334.086735   \n",
      "std      1.576482    0.651428    6.101282    3.001674  ...   646.700904   \n",
      "min      2.000000    5.000000    0.000000    0.000000  ...   697.000000   \n",
      "25%      8.000000    9.000000    6.000000    4.000000  ...  2916.250000   \n",
      "50%      9.000000    9.000000   11.000000    5.000000  ...  3452.000000   \n",
      "75%      9.000000    9.000000   15.250000    7.250000  ...  3759.500000   \n",
      "max     10.000000   10.000000   25.000000   14.000000  ...  4933.000000   \n",
      "\n",
      "          m_meduc     m_npvis     m_feduc      mv_sum  cigs*drink  \\\n",
      "count  196.000000  196.000000  196.000000  196.000000  196.000000   \n",
      "mean     0.015306    0.015306    0.035714    0.066327   65.474490   \n",
      "std      0.123082    0.123082    0.186052    0.304982   58.627677   \n",
      "min      0.000000    0.000000    0.000000    0.000000    0.000000   \n",
      "25%      0.000000    0.000000    0.000000    0.000000   20.000000   \n",
      "50%      0.000000    0.000000    0.000000    0.000000   48.000000   \n",
      "75%      0.000000    0.000000    0.000000    0.000000   85.750000   \n",
      "max      1.000000    1.000000    1.000000    2.000000  275.000000   \n",
      "\n",
      "       meduc*feduc    fage*mage  m_meduc*m_feduc  monpre*npvis  \n",
      "count   196.000000   196.000000       196.000000    196.000000  \n",
      "mean    195.885918  1631.107143         0.010204     25.214312  \n",
      "std      57.123511   763.523179         0.100756     13.352421  \n",
      "min      11.000000   624.000000         0.000000      8.000000  \n",
      "25%     144.000000  1154.250000         0.000000     16.000000  \n",
      "50%     192.000000  1386.000000         0.000000     24.000000  \n",
      "75%     256.000000  1875.750000         0.000000     30.000000  \n",
      "max     289.000000  4453.000000         1.000000     93.000000  \n",
      "\n",
      "[8 rows x 27 columns]\n"
     ]
    }
   ],
   "source": [
    "#descriptive statistics of features \n",
    "print(\"Descriptive Statistics\")\n",
    "print('*'*100)\n",
    "print(birthweight.describe())\n"
   ]
  },
  {
   "cell_type": "code",
   "execution_count": 16,
   "id": "cdde04e3",
   "metadata": {},
   "outputs": [
    {
     "data": {
      "text/html": [
       "<div>\n",
       "<style scoped>\n",
       "    .dataframe tbody tr th:only-of-type {\n",
       "        vertical-align: middle;\n",
       "    }\n",
       "\n",
       "    .dataframe tbody tr th {\n",
       "        vertical-align: top;\n",
       "    }\n",
       "\n",
       "    .dataframe thead th {\n",
       "        text-align: right;\n",
       "    }\n",
       "</style>\n",
       "<table border=\"1\" class=\"dataframe\">\n",
       "  <thead>\n",
       "    <tr style=\"text-align: right;\">\n",
       "      <th></th>\n",
       "      <th>bwght</th>\n",
       "      <th>cigs*drink</th>\n",
       "      <th>meduc*feduc</th>\n",
       "      <th>fage*mage</th>\n",
       "      <th>m_meduc*m_feduc</th>\n",
       "      <th>monpre*npvis</th>\n",
       "    </tr>\n",
       "  </thead>\n",
       "  <tbody>\n",
       "    <tr>\n",
       "      <th>bwght</th>\n",
       "      <td>1.00</td>\n",
       "      <td>-0.80</td>\n",
       "      <td>0.12</td>\n",
       "      <td>-0.50</td>\n",
       "      <td>-0.19</td>\n",
       "      <td>0.04</td>\n",
       "    </tr>\n",
       "    <tr>\n",
       "      <th>cigs*drink</th>\n",
       "      <td>-0.80</td>\n",
       "      <td>1.00</td>\n",
       "      <td>-0.02</td>\n",
       "      <td>0.36</td>\n",
       "      <td>0.10</td>\n",
       "      <td>-0.02</td>\n",
       "    </tr>\n",
       "    <tr>\n",
       "      <th>meduc*feduc</th>\n",
       "      <td>0.12</td>\n",
       "      <td>-0.02</td>\n",
       "      <td>1.00</td>\n",
       "      <td>-0.08</td>\n",
       "      <td>-0.01</td>\n",
       "      <td>-0.19</td>\n",
       "    </tr>\n",
       "    <tr>\n",
       "      <th>fage*mage</th>\n",
       "      <td>-0.50</td>\n",
       "      <td>0.36</td>\n",
       "      <td>-0.08</td>\n",
       "      <td>1.00</td>\n",
       "      <td>0.17</td>\n",
       "      <td>-0.01</td>\n",
       "    </tr>\n",
       "    <tr>\n",
       "      <th>m_meduc*m_feduc</th>\n",
       "      <td>-0.19</td>\n",
       "      <td>0.10</td>\n",
       "      <td>-0.01</td>\n",
       "      <td>0.17</td>\n",
       "      <td>1.00</td>\n",
       "      <td>-0.12</td>\n",
       "    </tr>\n",
       "    <tr>\n",
       "      <th>monpre*npvis</th>\n",
       "      <td>0.04</td>\n",
       "      <td>-0.02</td>\n",
       "      <td>-0.19</td>\n",
       "      <td>-0.01</td>\n",
       "      <td>-0.12</td>\n",
       "      <td>1.00</td>\n",
       "    </tr>\n",
       "  </tbody>\n",
       "</table>\n",
       "</div>"
      ],
      "text/plain": [
       "                 bwght  cigs*drink  meduc*feduc  fage*mage  m_meduc*m_feduc  \\\n",
       "bwght             1.00       -0.80         0.12      -0.50            -0.19   \n",
       "cigs*drink       -0.80        1.00        -0.02       0.36             0.10   \n",
       "meduc*feduc       0.12       -0.02         1.00      -0.08            -0.01   \n",
       "fage*mage        -0.50        0.36        -0.08       1.00             0.17   \n",
       "m_meduc*m_feduc  -0.19        0.10        -0.01       0.17             1.00   \n",
       "monpre*npvis      0.04       -0.02        -0.19      -0.01            -0.12   \n",
       "\n",
       "                 monpre*npvis  \n",
       "bwght                    0.04  \n",
       "cigs*drink              -0.02  \n",
       "meduc*feduc             -0.19  \n",
       "fage*mage               -0.01  \n",
       "m_meduc*m_feduc         -0.12  \n",
       "monpre*npvis             1.00  "
      ]
     },
     "execution_count": 16,
     "metadata": {},
     "output_type": "execute_result"
    }
   ],
   "source": [
    "#Correlation between values y-variable and continuous data \n",
    "continuous_data = ['bwght','cigs*drink', 'meduc*feduc', 'fage*mage', 'm_meduc*m_feduc',\n",
    "       'monpre*npvis'] #variables used\n",
    "\n",
    "birthweight_corr = birthweight[continuous_data].corr(method = 'pearson').round(decimals=2)\n",
    "birthweight_corr #priting the correlation table"
   ]
  },
  {
   "cell_type": "code",
   "execution_count": 17,
   "id": "8aaef9a3",
   "metadata": {},
   "outputs": [
    {
     "name": "stdout",
     "output_type": "stream",
     "text": [
      "<class 'pandas.core.frame.DataFrame'>\n",
      "RangeIndex: 196 entries, 0 to 195\n",
      "Data columns (total 6 columns):\n",
      " #   Column           Non-Null Count  Dtype  \n",
      "---  ------           --------------  -----  \n",
      " 0   bwght            196 non-null    int64  \n",
      " 1   cigs*drink       196 non-null    int64  \n",
      " 2   meduc*feduc      196 non-null    float64\n",
      " 3   fage*mage        196 non-null    int64  \n",
      " 4   m_meduc*m_feduc  196 non-null    int32  \n",
      " 5   monpre*npvis     196 non-null    float64\n",
      "dtypes: float64(2), int32(1), int64(3)\n",
      "memory usage: 8.5 KB\n"
     ]
    }
   ],
   "source": [
    "# birthweight.info()\n",
    "# type(\"bwght\")\n",
    "# pd.to_numeric(\"bwght\")\n",
    "birthweight_set =birthweight[continuous_data]\n",
    "birthweight_set.info()"
   ]
  },
  {
   "cell_type": "markdown",
   "id": "7ddc3a18",
   "metadata": {},
   "source": [
    "<hr style=\"height:.9px;border:none;color:#333;background-color:#333;\" />\n",
    "<h3>Data Correlation</h3> "
   ]
  },
  {
   "cell_type": "code",
   "execution_count": 18,
   "id": "cf6b8a44",
   "metadata": {},
   "outputs": [
    {
     "data": {
      "image/png": "[encoded data removed]",
      "text/plain": [
       "<Figure size 864x864 with 2 Axes>"
      ]
     },
     "metadata": {
      "needs_background": "light"
     },
     "output_type": "display_data"
    },
    {
     "data": {
      "image/png": "[encoded data removed]",
      "text/plain": [
       "<Figure size 432x288 with 1 Axes>"
      ]
     },
     "metadata": {
      "needs_background": "light"
     },
     "output_type": "display_data"
    },
    {
     "data": {
      "image/png": "[encoded data removed]",
      "text/plain": [
       "<Figure size 432x288 with 1 Axes>"
      ]
     },
     "metadata": {
      "needs_background": "light"
     },
     "output_type": "display_data"
    }
   ],
   "source": [
    "#correlation with more appealing visual\n",
    "# specifying plot size \n",
    "fig, ax = plt.subplots(figsize=(12,12))\n",
    "\n",
    "\n",
    "# developing a heatmap\n",
    "sns.heatmap(data       = birthweight_corr, \n",
    "            cmap       = 'gray_r',     \n",
    "            square     = True,          \n",
    "            annot      = True,          \n",
    "            linecolor  = 'black',       \n",
    "            linewidths = 0.5)          \n",
    "\n",
    "\n",
    "# title and displaying the plot\n",
    "plt.title(\"\"\"\n",
    "Linear Correlation Heatmap for Birthweight Features\n",
    "\"\"\")\n",
    "plt.show()\n",
    "\n",
    "# histogram for bwght (y_variable)\n",
    "sns.histplot(data   = birthweight,\n",
    "             x      = 'bwght',\n",
    "             kde    = True)\n",
    "\n",
    "#ddiding a mean and median line\n",
    "plt.axvline(x = birthweight[\"bwght\"].mean(),\n",
    "           color =\"red\")\n",
    "plt.axvline(x = birthweight[\"bwght\"].median(),\n",
    "           color =\"blue\")\n",
    "\n",
    "# title and displaying the plot\n",
    "plt.title(\"\"\"\n",
    "Bwght Distribution\n",
    "\"\"\")\n",
    "# rendering the plot\n",
    "plt.show()\n",
    "\n",
    "#creating logarithm value for bwght\n",
    "birthweight['log_bwght'] = np.log(birthweight['bwght'])\n",
    "\n",
    "# histogram for bwght (log(y)_variable)\n",
    "sns.histplot(data   = birthweight,\n",
    "             x      = 'log_bwght',\n",
    "             kde    = True)\n",
    "\n",
    "#ddiding a mean and median line\n",
    "plt.axvline(x = birthweight[\"log_bwght\"].mean(),\n",
    "           color =\"red\")\n",
    "plt.axvline(x = birthweight[\"log_bwght\"].median(),\n",
    "           color =\"blue\")\n",
    "\n",
    "# title and displaying the plot\n",
    "plt.title(\"\"\"\n",
    "Bwght Distribution with Log(y)\n",
    "\"\"\")\n",
    "# rendering the plot\n",
    "plt.show()"
   ]
  },
  {
   "cell_type": "markdown",
   "id": "687c1f7b",
   "metadata": {},
   "source": [
    "Based on the birth weight bar chart above, we can see that the data are slighly skewed to the left with the original data.<br>\n",
    "However, using the logarithm function makes the data even more skewed, so we will keep the original y variable for predictions."
   ]
  },
  {
   "cell_type": "markdown",
   "id": "eb88f542",
   "metadata": {},
   "source": [
    "<hr style=\"height:.9px;border:none;color:#333;background-color:#333;\" />\n",
    "<h3>Dealing with Skewed Data with Logarithm</h3> "
   ]
  },
  {
   "cell_type": "code",
   "execution_count": 20,
   "id": "c0aa173c",
   "metadata": {},
   "outputs": [],
   "source": [
    "#creating a new dataframe with some dropped features\n",
    "df_bwght = birthweight.drop(['omaps', 'fmaps', 'mblck','fwhte' ], axis = 1)\n",
    "\n",
    "#Making a copy of df_bwght with specific columns\n",
    "df_birthweight = df_bwght.loc[: ,['male', 'mwhte', 'moth', 'fblck', 'foth', 'bwght', 'm_npvis',\n",
    "       'mv_sum', 'cigs*drink', 'meduc*feduc', 'fage*mage',\n",
    "       'm_meduc*m_feduc', 'monpre*npvis']].copy()\n"
   ]
  },
  {
   "cell_type": "code",
   "execution_count": 21,
   "id": "ee314f55",
   "metadata": {},
   "outputs": [
    {
     "name": "stdout",
     "output_type": "stream",
     "text": [
      "New dataframe columns to be used for OLS regression\n",
      "Index(['male', 'mwhte', 'moth', 'fblck', 'foth', 'bwght', 'm_npvis', 'mv_sum',\n",
      "       'crossfading', 'age', 'education', 'prenatal_care', 'm_education'],\n",
      "      dtype='object')\n"
     ]
    }
   ],
   "source": [
    "#Renamming the crossed columns\n",
    "df_birthweight['crossfading']= df_birthweight['cigs*drink']\n",
    "df_birthweight['age']= df_birthweight['fage*mage']\n",
    "df_birthweight['education']= df_birthweight['meduc*feduc']\n",
    "df_birthweight['prenatal_care']= df_birthweight['monpre*npvis']\n",
    "df_birthweight['m_education']= df_birthweight['m_meduc*m_feduc']\n",
    "\n",
    "#dropping old columns\n",
    "df = df_birthweight.drop(['cigs*drink', 'meduc*feduc', 'fage*mage',\n",
    "       'm_meduc*m_feduc', 'monpre*npvis'], axis = 1)\n",
    "\n",
    "print(f\"New dataframe columns to be used for OLS regression\")\n",
    "print(df.columns) #print new features of the dataframe\n"
   ]
  },
  {
   "cell_type": "code",
   "execution_count": 22,
   "id": "0b3dfb47",
   "metadata": {},
   "outputs": [],
   "source": [
    "#setting x-variables data using full dataset for Lasso and ARD regression models \n",
    "birthweight_data= birthweight.drop(['bwght', 'log_bwght'], axis = 1)\n",
    "\n",
    "\n",
    "# setting explanatory variable data for OLS Regression model\n",
    "OLS_data   = df.drop([\"bwght\"],\n",
    "                               axis = 1)\n",
    "\n",
    "#setting y_variables\n",
    "birthweight_target = df.loc[ : , \"bwght\"]"
   ]
  },
  {
   "cell_type": "markdown",
   "id": "6662f7e1",
   "metadata": {},
   "source": [
    "<hr style=\"height:.9px;border:none;color:#333;background-color:#333;\" />\n",
    "<h2>Features Engineering for prediction Optimization</h2> "
   ]
  },
  {
   "cell_type": "code",
   "execution_count": 23,
   "id": "5888d9f3",
   "metadata": {},
   "outputs": [],
   "source": [
    "# splitting the data into training and testing sets \n",
    "#Training and testing datasets for OLS model\n",
    "x_train, x_test, y_train, y_test = train_test_split(\n",
    "            OLS_data,\n",
    "            birthweight_target,\n",
    "            test_size = 0.25,\n",
    "            random_state = 219)\n",
    "\n",
    "# Training and testing datasets for Lasso and ARD models\n",
    "x_train_Full, x_test_Full, y_train_Full, y_test_Full = train_test_split(\n",
    "            birthweight_data,\n",
    "            birthweight_target,\n",
    "            test_size = 0.25,\n",
    "            random_state = 219)\n"
   ]
  },
  {
   "cell_type": "code",
   "execution_count": 24,
   "id": "4c166a43",
   "metadata": {},
   "outputs": [
    {
     "name": "stdout",
     "output_type": "stream",
     "text": [
      "\n",
      "OLS Training Data\n",
      "-------------\n",
      "X-side: (147, 12)\n",
      "y-side: (147,)\n",
      "\n",
      "\n",
      "OLS Testing Data\n",
      "------------\n",
      "X-side: (49, 12)\n",
      "y-side: (49,)\n",
      "\n",
      "Lasso & ARD Training Data\n",
      "-------------\n",
      "X-side: (147, 26)\n",
      "y-side: (147,)\n",
      "\n",
      "\n",
      "Lasso & ARD Testing Data\n",
      "------------\n",
      "X-side: (49, 26)\n",
      "y-side: (49,)\n",
      "\n"
     ]
    }
   ],
   "source": [
    "# checking the shapes of the datasets\n",
    "print(f\"\"\"\n",
    "OLS Training Data\n",
    "-------------\n",
    "X-side: {x_train.shape}\n",
    "y-side: {y_train.shape}\n",
    "\n",
    "\n",
    "OLS Testing Data\n",
    "------------\n",
    "X-side: {x_test.shape}\n",
    "y-side: {y_test.shape}\n",
    "\n",
    "Lasso & ARD Training Data\n",
    "-------------\n",
    "X-side: {x_train_Full.shape}\n",
    "y-side: {y_train_Full.shape}\n",
    "\n",
    "\n",
    "Lasso & ARD Testing Data\n",
    "------------\n",
    "X-side: {x_test_Full.shape}\n",
    "y-side: {y_test_Full.shape}\n",
    "\"\"\")\n"
   ]
  },
  {
   "cell_type": "code",
   "execution_count": 25,
   "id": "fbe15b79",
   "metadata": {},
   "outputs": [],
   "source": [
    "# merging X_train and y_train so that they can be used in statsmodels\n",
    "birthweight_train = pd.concat([x_train, y_train], axis = 1)\n",
    "# merging X_train and y_train so that they can be used in statsmodels\n",
    "birthweight_test = pd.concat([x_test, y_test], axis = 1)\n",
    "# merging X_train and y_train so that they can be used in statsmodels\n",
    "birthweight_train_Full = pd.concat([x_train_Full, y_train_Full], axis = 1)\n",
    "# merging X_train and y_train so that they can be used in statsmodels\n",
    "birthweight_test_Full = pd.concat([x_test_Full, y_test_Full], axis = 1)\n"
   ]
  },
  {
   "cell_type": "markdown",
   "id": "06b15110",
   "metadata": {},
   "source": [
    "<hr style=\"height:.9px;border:none;color:#333;background-color:#333;\" />\n",
    "<h2>Predictive Modeling</h2> "
   ]
  },
  {
   "cell_type": "markdown",
   "id": "c44b271f",
   "metadata": {},
   "source": [
    "<hr style=\"height:.9px;border:none;color:#333;background-color:#333;\" />\n",
    "<h3>I- Ordinary Least Squares Regression Model</h3> "
   ]
  },
  {
   "cell_type": "code",
   "execution_count": 26,
   "id": "23582b52",
   "metadata": {},
   "outputs": [
    {
     "name": "stdout",
     "output_type": "stream",
     "text": [
      "OLS Regression Model\n",
      "********************************************************************************\n",
      "training set\n",
      "********************************************************************************\n",
      "                            OLS Regression Results                            \n",
      "==============================================================================\n",
      "Dep. Variable:                  bwght   R-squared:                       0.723\n",
      "Model:                            OLS   Adj. R-squared:                  0.715\n",
      "Method:                 Least Squares   F-statistic:                     92.43\n",
      "Date:                Wed, 26 Oct 2022   Prob (F-statistic):           1.55e-38\n",
      "Time:                        16:25:33   Log-Likelihood:                -1070.4\n",
      "No. Observations:                 147   AIC:                             2151.\n",
      "Df Residuals:                     142   BIC:                             2166.\n",
      "Df Model:                           4                                         \n",
      "Covariance Type:            nonrobust                                         \n",
      "=================================================================================\n",
      "                    coef    std err          t      P>|t|      [0.025      0.975]\n",
      "---------------------------------------------------------------------------------\n",
      "Intercept      3894.9525    149.499     26.053      0.000    3599.421    4190.484\n",
      "crossfading      -7.6549      0.522    -14.676      0.000      -8.686      -6.624\n",
      "age              -0.2271      0.040     -5.613      0.000      -0.307      -0.147\n",
      "education         1.3504      0.521      2.591      0.011       0.320       2.381\n",
      "prenatal_care     2.8085      2.226      1.262      0.209      -1.591       7.208\n",
      "==============================================================================\n",
      "Omnibus:                        4.756   Durbin-Watson:                   1.880\n",
      "Prob(Omnibus):                  0.093   Jarque-Bera (JB):                5.881\n",
      "Skew:                           0.149   Prob(JB):                       0.0528\n",
      "Kurtosis:                       3.933   Cond. No.                     9.36e+03\n",
      "==============================================================================\n",
      "\n",
      "Notes:\n",
      "[1] Standard Errors assume that the covariance matrix of the errors is correctly specified.\n",
      "[2] The condition number is large, 9.36e+03. This might indicate that there are\n",
      "strong multicollinearity or other numerical problems.\n",
      "********************************************************************************\n",
      "testing set\n",
      "********************************************************************************\n",
      "                            OLS Regression Results                            \n",
      "==============================================================================\n",
      "Dep. Variable:                  bwght   R-squared:                       0.655\n",
      "Model:                            OLS   Adj. R-squared:                  0.623\n",
      "Method:                 Least Squares   F-statistic:                     20.87\n",
      "Date:                Wed, 26 Oct 2022   Prob (F-statistic):           1.06e-09\n",
      "Time:                        16:25:33   Log-Likelihood:                -354.30\n",
      "No. Observations:                  49   AIC:                             718.6\n",
      "Df Residuals:                      44   BIC:                             728.1\n",
      "Df Model:                           4                                         \n",
      "Covariance Type:            nonrobust                                         \n",
      "=================================================================================\n",
      "                    coef    std err          t      P>|t|      [0.025      0.975]\n",
      "---------------------------------------------------------------------------------\n",
      "Intercept      4074.6618    266.140     15.310      0.000    3538.292    4611.032\n",
      "crossfading      -8.4688      1.060     -7.993      0.000     -10.604      -6.333\n",
      "age              -0.1168      0.080     -1.455      0.153      -0.279       0.045\n",
      "education         0.0782      0.974      0.080      0.936      -1.885       2.041\n",
      "prenatal_care    -2.9687      4.133     -0.718      0.476     -11.299       5.362\n",
      "==============================================================================\n",
      "Omnibus:                        2.709   Durbin-Watson:                   2.124\n",
      "Prob(Omnibus):                  0.258   Jarque-Bera (JB):                1.718\n",
      "Skew:                           0.351   Prob(JB):                        0.424\n",
      "Kurtosis:                       3.591   Cond. No.                     8.95e+03\n",
      "==============================================================================\n",
      "\n",
      "Notes:\n",
      "[1] Standard Errors assume that the covariance matrix of the errors is correctly specified.\n",
      "[2] The condition number is large, 8.95e+03. This might indicate that there are\n",
      "strong multicollinearity or other numerical problems.\n",
      "OLS Training Score :0.72\n",
      "OLS Testing Score  :0.687\n",
      "OLS Train-Test Gap :0.033\n"
     ]
    }
   ],
   "source": [
    "# OLS linear regression model \n",
    "print(\"OLS Regression Model\")\n",
    "#training set\n",
    "print('*'*80)\n",
    "print(\"training set\")\n",
    "print('*'*80)\n",
    "lm_best = smf.ols(formula =  \"\"\"bwght ~ \n",
    "crossfading +\n",
    "age +\n",
    "education +\n",
    "prenatal_care \n",
    "\"\"\",\n",
    "data = birthweight_train)\n",
    "#fitting the model based on the data\n",
    "results = lm_best.fit()\n",
    "\n",
    "\n",
    "#Displaying the summary output\n",
    "print(results.summary())\n",
    "\n",
    "#testing set\n",
    "print('*'*80)\n",
    "print(\"testing set\")\n",
    "print('*'*80)\n",
    "lm_best = smf.ols(formula =  \"\"\"bwght ~ \n",
    "crossfading +\n",
    "age +\n",
    "education +\n",
    "prenatal_care \n",
    "\"\"\",\n",
    "data = birthweight_test)\n",
    "\n",
    "\n",
    "#fitting the model based on the data\n",
    "results = lm_best.fit()\n",
    "\n",
    "\n",
    "\n",
    "# displaying summary output\n",
    "print(results.summary())\n",
    "\n",
    "#R-squared summary\n",
    "lr_train_score = 0.72\n",
    "lr_test_score = 0.687\n",
    "lr_test_gap = 0.033\n",
    "\n",
    "#displaying the results\n",
    "print(f'OLS Training Score :{lr_train_score}')\n",
    "print(f'OLS Testing Score  :{lr_test_score}') \n",
    "\n",
    "#displaying and saving the gap between training and testing\n",
    "print(f'OLS Train-Test Gap :{lr_test_gap}')"
   ]
  },
  {
   "cell_type": "markdown",
   "id": "1dc0dc78",
   "metadata": {},
   "source": [
    "<hr style=\"height:.9px;border:none;color:#333;background-color:#333;\" />\n",
    "<h3>II- Lasso Regression Model</h3> "
   ]
  },
  {
   "cell_type": "code",
   "execution_count": 27,
   "id": "e6f85011",
   "metadata": {},
   "outputs": [
    {
     "name": "stdout",
     "output_type": "stream",
     "text": [
      "Lasso Regression Model\n",
      "Lasso Training Score : 0.705\n",
      "Lasso Testing Score  : 0.6556\n",
      "Lasso Train-Test Gap : 0.0494\n"
     ]
    },
    {
     "name": "stderr",
     "output_type": "stream",
     "text": [
      "C:\\Users\\Probook G3\\anaconda3\\lib\\site-packages\\sklearn\\linear_model\\_base.py:141: FutureWarning: 'normalize' was deprecated in version 1.0 and will be removed in 1.2.\n",
      "If you wish to scale the data, use Pipeline with a StandardScaler in a preprocessing stage. To reproduce the previous behavior:\n",
      "\n",
      "from sklearn.pipeline import make_pipeline\n",
      "\n",
      "model = make_pipeline(StandardScaler(with_mean=False), Lasso())\n",
      "\n",
      "If you wish to pass a sample_weight parameter, you need to pass it as a fit parameter to each step of the pipeline as follows:\n",
      "\n",
      "kwargs = {s[0] + '__sample_weight': sample_weight for s in model.steps}\n",
      "model.fit(X, y, **kwargs)\n",
      "\n",
      "Set parameter alpha to: original_alpha * np.sqrt(n_samples). \n",
      "  warnings.warn(\n"
     ]
    }
   ],
   "source": [
    "# Lasso Regression model\n",
    "print(\"Lasso Regression Model\")\n",
    "\n",
    "lasso_model = sklearn.linear_model.Lasso(alpha = 6.0,\n",
    "                             normalize = True) \n",
    "\n",
    "\n",
    "# Fitting to the training data\n",
    "lasso_fit = lasso_model.fit(x_train_Full, y_train_Full)\n",
    "\n",
    "\n",
    "# PREDICTING on new data\n",
    "lasso_pred = lasso_fit.predict(x_test_Full)\n",
    "\n",
    "\n",
    "# SCORING the results\n",
    "print('Lasso Training Score :', lasso_model.score(x_train_Full, y_train_Full).round(4))\n",
    "print('Lasso Testing Score  :', lasso_model.score(x_test_Full, y_test_Full).round(4))\n",
    "\n",
    "\n",
    "# saving scoring data for future use\n",
    "lasso_train_score = lasso_model.score(x_train_Full, y_train_Full).round(4) \n",
    "lasso_test_score  = lasso_model.score(x_test_Full, y_test_Full).round(4)   \n",
    "\n",
    "\n",
    "# displaying and saving the gap between training and testing\n",
    "print('Lasso Train-Test Gap :', abs(lasso_train_score - lasso_test_score).round(4))\n",
    "lasso_test_gap = abs(lasso_train_score - lasso_test_score).round(4)\n"
   ]
  },
  {
   "cell_type": "markdown",
   "id": "b4f025f0",
   "metadata": {},
   "source": [
    "<hr style=\"height:.9px;border:none;color:#333;background-color:#333;\" />\n",
    "<h3>III- ARD Regression Model</h3> "
   ]
  },
  {
   "cell_type": "code",
   "execution_count": 28,
   "id": "a5294da7",
   "metadata": {},
   "outputs": [
    {
     "name": "stdout",
     "output_type": "stream",
     "text": [
      "ARD Regression Model\n",
      "Training Score: 0.7559\n",
      "Testing Score : 0.6115\n",
      "ARD Train-Test Gap : 0.1444\n"
     ]
    }
   ],
   "source": [
    "# ARD Regression Model\n",
    "print(\"ARD Regression Model\")\n",
    "\n",
    "ard_model = sklearn.linear_model.ARDRegression()\n",
    "\n",
    "\n",
    "# FITTING the training data\n",
    "ard_fit = ard_model.fit(x_train_Full, y_train_Full)\n",
    "\n",
    "\n",
    "# PREDICTING on new data\n",
    "ard_pred = ard_fit.predict(x_test_Full)\n",
    "\n",
    "\n",
    "print('Training Score:', ard_model.score(x_train_Full, y_train_Full).round(4))\n",
    "print('Testing Score :',  ard_model.score(x_test_Full, y_test_Full).round(4))\n",
    "\n",
    "\n",
    "# saving scoring data for future use\n",
    "ard_train_score = ard_model.score(x_train_Full, y_train_Full).round(4)\n",
    "ard_test_score  = ard_model.score(x_test_Full, y_test_Full).round(4)\n",
    "\n",
    "\n",
    "# displaying and saving the gap between training and testing\n",
    "print('ARD Train-Test Gap :', abs(ard_train_score - ard_test_score).round(4))\n",
    "ard_test_gap = abs(ard_train_score - ard_test_score).round(4)\n"
   ]
  },
  {
   "cell_type": "markdown",
   "id": "65f52b19",
   "metadata": {},
   "source": [
    "<hr style=\"height:.9px;border:none;color:#333;background-color:#333;\" />\n",
    "<h3>IV- KNN Regression Model</h3> "
   ]
  },
  {
   "cell_type": "code",
   "execution_count": 29,
   "id": "4b732933",
   "metadata": {},
   "outputs": [
    {
     "name": "stdout",
     "output_type": "stream",
     "text": [
      "Knn Regression Model\n",
      "The optimal number of neighbors is 9\n",
      "KNN Training Score: 0.565\n",
      "KNN Testing Score : 0.3121\n",
      "KNN Train-Test Gap: 0.2529\n"
     ]
    }
   ],
   "source": [
    "print(\"Knn Regression Model\")\n",
    "#KNN Regression Model\n",
    "\n",
    "scaler = StandardScaler()\n",
    "\n",
    "\n",
    "# FITTING the scaler with housing_data\n",
    "scaler.fit(birthweight_data)\n",
    "\n",
    "\n",
    "# TRANSFORMING our data after fit\n",
    "x_scaled = scaler.transform(birthweight_data)\n",
    "\n",
    "\n",
    "# converting scaled data into a DataFrame\n",
    "x_scaled_df = pd.DataFrame(x_scaled)\n",
    "\n",
    "# creating lists for training set accuracy and test set accuracy\n",
    "training_accuracy = []\n",
    "test_accuracy     = []\n",
    "\n",
    "\n",
    "# building a visualization of 1 to 50 neighbors\n",
    "neighbors_settings = range(1, 51)\n",
    "\n",
    "\n",
    "for n_neighbors in neighbors_settings:\n",
    "    # Building the model\n",
    "    clf = KNeighborsRegressor(n_neighbors = n_neighbors)\n",
    "    clf.fit(x_train_Full, y_train_Full)\n",
    "    \n",
    "    # Recording the training set accuracy\n",
    "    training_accuracy.append(clf.score(x_train_Full, y_train_Full))\n",
    "    \n",
    "    # Recording the generalization accuracy\n",
    "    test_accuracy.append(clf.score(x_test_Full, y_test_Full))\n",
    "    \n",
    "# finding the optimal number of neighbors\n",
    "opt_neighbors = test_accuracy.index(max(test_accuracy)) + 1\n",
    "print(f\"\"\"The optimal number of neighbors is {opt_neighbors}\"\"\")\n",
    "\n",
    "# INSTANTIATING a KNN model object\n",
    "knn_reg = KNeighborsRegressor(algorithm = 'auto',\n",
    "                              n_neighbors = 9)\n",
    "\n",
    "\n",
    "# FITTING to the training data\n",
    "knn_fit = knn_reg.fit(x_train_Full, y_train_Full)\n",
    "\n",
    "\n",
    "# PREDICTING on new data\n",
    "knn_reg_pred = knn_fit.predict(x_test_Full)\n",
    "\n",
    "\n",
    "# SCORING the results\n",
    "print('KNN Training Score:', knn_reg.score(x_train_Full, y_train_Full).round(4))\n",
    "print('KNN Testing Score :',  knn_reg.score(x_test_Full, y_test_Full).round(4))\n",
    "\n",
    "\n",
    "# saving scoring data for future use\n",
    "knn_reg_score_train = knn_reg.score(x_train_Full, y_train_Full).round(4)\n",
    "knn_reg_score_test  = knn_reg.score(x_test_Full, y_test_Full).round(4)\n",
    "\n",
    "\n",
    "# displaying and saving the gap between training and testing\n",
    "print('KNN Train-Test Gap:', abs(knn_reg_score_train - knn_reg_score_test).round(4))\n",
    "knn_reg_test_gap = abs(knn_reg_score_train - knn_reg_score_test).round(4)\n",
    "    "
   ]
  },
  {
   "cell_type": "markdown",
   "id": "a124275b",
   "metadata": {},
   "source": [
    "<hr style=\"height:.9px;border:none;color:#333;background-color:#333;\" />\n",
    "<h3>V- Final Results</h3> "
   ]
  },
  {
   "cell_type": "code",
   "execution_count": 30,
   "id": "83040a79",
   "metadata": {},
   "outputs": [
    {
     "name": "stdout",
     "output_type": "stream",
     "text": [
      "\n",
      "Model    Train Score        Test Score             Train_Test Gap    \n",
      "-----    -----------        ----------             --------------\n",
      "***OLS     0.72               0.687                 0.033  Final Model\n",
      "Lasso      0.705              0.6556                0.0494\n",
      "ARD        0.7559             0.6115                0.1444\n",
      "KNN        0.565              0.3121                0.2529\n",
      "\n"
     ]
    }
   ],
   "source": [
    "# comparing results of all used models\n",
    "\n",
    "print(f\"\"\"\n",
    "Model    Train Score        Test Score             Train_Test Gap    \n",
    "-----    -----------        ----------             --------------\n",
    "***OLS     {lr_train_score}               {lr_test_score}                 {lr_test_gap}  Final Model\n",
    "Lasso      {lasso_train_score}              {lasso_test_score}                {lasso_test_gap}\n",
    "ARD        {ard_train_score}             {ard_test_score}                {ard_test_gap}\n",
    "KNN        {knn_reg_score_train}              {knn_reg_score_test}                {knn_reg_test_gap}\n",
    "\"\"\")"
   ]
  },
  {
   "cell_type": "code",
   "execution_count": null,
   "id": "ed00bb04",
   "metadata": {},
   "outputs": [],
   "source": []
  }
 ],
 "metadata": {
  "kernelspec": {
   "display_name": "Python 3 (ipykernel)",
   "language": "python",
   "name": "python3"
  },
  "language_info": {
   "codemirror_mode": {
    "name": "ipython",
    "version": 3
   },
   "file_extension": ".py",
   "mimetype": "text/x-python",
   "name": "python",
   "nbconvert_exporter": "python",
   "pygments_lexer": "ipython3",
   "version": "3.8.8"
  },
  "toc": {
   "base_numbering": "",
   "nav_menu": {},
   "number_sections": false,
   "sideBar": true,
   "skip_h1_title": false,
   "title_cell": "Table of Contents",
   "title_sidebar": "Contents",
   "toc_cell": false,
   "toc_position": {},
   "toc_section_display": true,
   "toc_window_display": false
  },
  "varInspector": {
   "cols": {
    "lenName": 16,
    "lenType": 16,
    "lenVar": 40
   },
   "kernels_config": {
    "python": {
     "delete_cmd_postfix": "",
     "delete_cmd_prefix": "del ",
     "library": "var_list.py",
     "varRefreshCmd": "print(var_dic_list())"
    },
    "r": {
     "delete_cmd_postfix": ") ",
     "delete_cmd_prefix": "rm(",
     "library": "var_list.r",
     "varRefreshCmd": "cat(var_dic_list()) "
    }
   },
   "types_to_exclude": [
    "module",
    "function",
    "builtin_function_or_method",
    "instance",
    "_Feature"
   ],
   "window_display": false
  }
 },
 "nbformat": 4,
 "nbformat_minor": 5
}
